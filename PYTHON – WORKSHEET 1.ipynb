{
 "cells": [
  {
   "cell_type": "markdown",
   "id": "3eb984e5",
   "metadata": {},
   "source": [
    "\n",
    "#Q1 to Q8 have only one correct answer. \n",
    "Choose the correct option to answer your question."
   ]
  },
  {
   "cell_type": "code",
   "execution_count": 4,
   "id": "42b4d8b7",
   "metadata": {},
   "outputs": [],
   "source": [
    "# 1.Which of the following operators is used to calculate remainder in a division?\n",
    "# Answer- %\n"
   ]
  },
  {
   "cell_type": "code",
   "execution_count": 5,
   "id": "1f68476e",
   "metadata": {},
   "outputs": [],
   "source": [
    "#2.In python 2//3 is equal to?\n",
    "#Answer- 0"
   ]
  },
  {
   "cell_type": "code",
   "execution_count": 7,
   "id": "70c9dca4",
   "metadata": {},
   "outputs": [],
   "source": [
    "#3.In python, 6<<2 is equal to?\n",
    "#Answer-24"
   ]
  },
  {
   "cell_type": "code",
   "execution_count": 8,
   "id": "4317c5ff",
   "metadata": {},
   "outputs": [],
   "source": [
    "#4.In python, 6&2 will give which of the following as output?\n",
    "#Answer-2"
   ]
  },
  {
   "cell_type": "code",
   "execution_count": 9,
   "id": "6bf07163",
   "metadata": {},
   "outputs": [],
   "source": [
    "#5.In python, 6|2 will give which of the following as output?\n",
    "#Answer-6"
   ]
  },
  {
   "cell_type": "code",
   "execution_count": 10,
   "id": "572ee497",
   "metadata": {},
   "outputs": [],
   "source": [
    "#6.What does the finally keyword denotes in python?\n",
    "\n",
    "#Answer-the finally block will be executed no matter if the try block raises an error or not."
   ]
  },
  {
   "cell_type": "code",
   "execution_count": 11,
   "id": "b8f813c5",
   "metadata": {},
   "outputs": [],
   "source": [
    "#7.What does raise keyword is used for in python?\n",
    "#Answer-It is used to raise an exception"
   ]
  },
  {
   "cell_type": "code",
   "execution_count": 12,
   "id": "abf13701",
   "metadata": {},
   "outputs": [],
   "source": [
    "#8.Which of the following is a common use case of yield keyword in python?\n",
    "#Answer- in defining a generator"
   ]
  },
  {
   "cell_type": "code",
   "execution_count": 14,
   "id": "7be8d14b",
   "metadata": {},
   "outputs": [],
   "source": [
    "#9.Which of the following are the valid variable names?\n",
    "#Answer-\n",
    "#A)_abc\n",
    "#C) abc\n",
    " "
   ]
  },
  {
   "cell_type": "code",
   "execution_count": 15,
   "id": "1ec85ecd",
   "metadata": {},
   "outputs": [],
   "source": [
    "#10.Which of the following are the keywords in python?\n",
    "# Answer-\n",
    "#A)yield \n",
    "#B) raise"
   ]
  },
  {
   "cell_type": "code",
   "execution_count": 17,
   "id": "e7db5614",
   "metadata": {},
   "outputs": [
    {
     "name": "stdout",
     "output_type": "stream",
     "text": [
      "please enter any number:4\n",
      "the factorial of 4 = 24\n"
     ]
    }
   ],
   "source": [
    "#11.Write a python program to find the factorial of a number.\n",
    "\n",
    "number=int(input('please enter any number:'))\n",
    "fact=1\n",
    "\n",
    "for i in range(1,number+1):\n",
    "    fact=fact*i\n",
    "print('the factorial of %d =% d' %(number,fact))   "
   ]
  },
  {
   "cell_type": "code",
   "execution_count": 18,
   "id": "5e50e9ab",
   "metadata": {},
   "outputs": [
    {
     "name": "stdout",
     "output_type": "stream",
     "text": [
      "Enter the number to check prime or composite: 10\n",
      "The number is composite number\n"
     ]
    }
   ],
   "source": [
    "#12.Write a python program to find whether a number is prime or composite.\n",
    "\n",
    "number=int(input(\"Enter the number to check prime or composite: \"))\n",
    "\n",
    "count=0\n",
    "\n",
    "for i in range(2,int(number/2)+1):\n",
    "\n",
    "    if(number%i==0):\n",
    "\n",
    "        count=1\n",
    "\n",
    "        break\n",
    "\n",
    "if(count==0):\n",
    "\n",
    "    print(\"The number is prime number\")\n",
    "\n",
    "else:\n",
    "\n",
    "    print(\"The number is composite number\")"
   ]
  },
  {
   "cell_type": "code",
   "execution_count": 19,
   "id": "8dc6f513",
   "metadata": {},
   "outputs": [
    {
     "name": "stdout",
     "output_type": "stream",
     "text": [
      "Please enter your own Text : abc\n",
      "Reverse Order :   cba\n",
      "This is Not\n"
     ]
    }
   ],
   "source": [
    "#13.Write a python program to check whether a given string is palindrome or not.\n",
    "\n",
    "\n",
    "string = input(\"Please enter your own Text : \")\n",
    "str1 = \"\"\n",
    "\n",
    "for i in string:\n",
    "    str1 = i + str1  \n",
    "print(\"Reverse Order :  \", str1)\n",
    "\n",
    "if(string == str1):\n",
    "    print(\"This is a Palindrome String\")\n",
    "else:\n",
    "    print(\"This is Not\") \n",
    "    "
   ]
  },
  {
   "cell_type": "code",
   "execution_count": 20,
   "id": "6ccc89d6",
   "metadata": {},
   "outputs": [
    {
     "name": "stdout",
     "output_type": "stream",
     "text": [
      "Hypotenuse = 5.0\n",
      "Adjacent = 4.0\n",
      "Opposite = 3.0\n",
      "You know the answer!\n"
     ]
    }
   ],
   "source": [
    "#14.Write a Python program to get the third side of right-angled triangle from two given sides.\n",
    "\n",
    "\n",
    "def pythagoras(opposite_side,adjacent_side,hypotenuse):\n",
    "        if opposite_side == str(\"x\"):\n",
    "            return (\"Opposite = \" + str(((hypotenuse**2) - (adjacent_side**2))**0.5))\n",
    "        elif adjacent_side == str(\"x\"):\n",
    "            return (\"Adjacent = \" + str(((hypotenuse**2) - (opposite_side**2))**0.5))\n",
    "        elif hypotenuse == str(\"x\"):\n",
    "            return (\"Hypotenuse = \" + str(((opposite_side**2) + (adjacent_side**2))**0.5))\n",
    "        else:\n",
    "            return \"You know the answer!\"\n",
    "    \n",
    "print(pythagoras(3,4,'x'))\n",
    "print(pythagoras(3,'x',5))\n",
    "print(pythagoras('x',4,5))\n",
    "print(pythagoras(3,4,5))\n",
    "\n"
   ]
  },
  {
   "cell_type": "code",
   "execution_count": 21,
   "id": "f857dfd2",
   "metadata": {},
   "outputs": [
    {
     "name": "stdout",
     "output_type": "stream",
     "text": [
      "Enter the string: vishal\n",
      "{'v': 1, 'i': 1, 's': 1, 'h': 1, 'a': 1, 'l': 1}\n"
     ]
    }
   ],
   "source": [
    "#15.Write a python program to print the frequency of each of the characters present in a given string.\n",
    "\n",
    "str1 = input (\"Enter the string: \")\n",
    "d = dict()\n",
    "for c in str1:\n",
    "    if c in d:\n",
    "        d[c] = d[c] + 1\n",
    "    else:\n",
    "        d[c] = 1\n",
    "print(d)"
   ]
  },
  {
   "cell_type": "code",
   "execution_count": null,
   "id": "1cb9d0e5",
   "metadata": {},
   "outputs": [],
   "source": []
  }
 ],
 "metadata": {
  "kernelspec": {
   "display_name": "Python 3 (ipykernel)",
   "language": "python",
   "name": "python3"
  },
  "language_info": {
   "codemirror_mode": {
    "name": "ipython",
    "version": 3
   },
   "file_extension": ".py",
   "mimetype": "text/x-python",
   "name": "python",
   "nbconvert_exporter": "python",
   "pygments_lexer": "ipython3",
   "version": "3.9.7"
  }
 },
 "nbformat": 4,
 "nbformat_minor": 5
}
